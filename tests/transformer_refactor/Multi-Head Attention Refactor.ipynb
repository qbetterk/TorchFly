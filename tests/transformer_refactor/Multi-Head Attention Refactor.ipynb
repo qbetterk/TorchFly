{
 "cells": [
  {
   "cell_type": "code",
   "execution_count": 1,
   "metadata": {},
   "outputs": [],
   "source": [
    "import torch\n",
    "import torch.nn as nn\n",
    "import torch.nn.functional as F"
   ]
  },
  {
   "cell_type": "code",
   "execution_count": 181,
   "metadata": {},
   "outputs": [],
   "source": [
    "class RefactorConfig:\n",
    "    hidden_size = 768\n",
    "    head_size = 64\n",
    "    num_heads = 12\n",
    "    \n",
    "config = RefactorConfig"
   ]
  },
  {
   "cell_type": "code",
   "execution_count": 182,
   "metadata": {},
   "outputs": [],
   "source": [
    "class MultiHeadAttention(nn.Module):\n",
    "    \n",
    "    def __init__(self, config):\n",
    "        super().__init__()\n",
    "        self.hidden_size = config.hidden_size\n",
    "        self.head_size = config.head_size\n",
    "        self.num_heads = config.num_heads\n",
    "        \n",
    "        self.qkv = nn.Linear(config.hidden_size, config.hidden_size * 3)\n",
    "    \n",
    "    def split_heads(self, x, k=False):\n",
    "        # new_x_shape = x.size()[:-1] + (self.n_head, x.size(-1) // self.n_head)\n",
    "        x = x.view(x.shape[0], -1, self.num_heads, self.head_size)\n",
    "        if k:\n",
    "            # (batch, head, head_features, seq_length)\n",
    "            return x.permute(0, 2, 3, 1)\n",
    "        else:\n",
    "            # (batch, head, seq_length, head_features)\n",
    "            return x.permute(0, 2, 1, 3)\n",
    "    \n",
    "    def forward(self, hidden_states, mask):\n",
    "        # compute mixed qkv\n",
    "        mixed_qkv = self.qkv(hidden_states)\n",
    "        query, key, value = mixed_qkv.split(self.hidden_size, dim=2)\n",
    "        # q, k, v\n",
    "        query = self.split_heads(query)\n",
    "        key = self.split_heads(key, k=True)\n",
    "        value = self.split_heads(value) \n",
    "    \n",
    "        return query, key, value\n"
   ]
  },
  {
   "cell_type": "code",
   "execution_count": 177,
   "metadata": {},
   "outputs": [],
   "source": [
    "class BertSelfAttention(nn.Module):\n",
    "    def __init__(self):\n",
    "        super(BertSelfAttention, self).__init__()\n",
    "\n",
    "        self.num_attention_heads = 12\n",
    "        self.attention_head_size = 64\n",
    "        self.all_head_size = self.num_attention_heads * self.attention_head_size\n",
    "\n",
    "        self.query = nn.Linear(768, self.all_head_size)\n",
    "        self.key = nn.Linear(768, self.all_head_size)\n",
    "        self.value = nn.Linear(768, self.all_head_size)\n",
    "\n",
    "    def transpose_for_scores(self, x):\n",
    "        new_x_shape = x.size(\n",
    "        )[:-1] + (self.num_attention_heads, self.attention_head_size)\n",
    "        x = x.view(*new_x_shape)\n",
    "        return x.permute(0, 2, 1, 3)\n",
    "\n",
    "    def forward(self, hidden_states, attention_mask=None, head_mask=None):\n",
    "        mixed_query_layer = self.query(hidden_states)\n",
    "        mixed_key_layer = self.key(hidden_states)\n",
    "        mixed_value_layer = self.value(hidden_states)\n",
    "\n",
    "        query_layer = self.transpose_for_scores(mixed_query_layer)\n",
    "        key_layer = self.transpose_for_scores(mixed_key_layer)\n",
    "        value_layer = self.transpose_for_scores(mixed_value_layer)\n",
    "\n",
    "        return query_layer, key_layer, value_layer\n",
    "#         # Take the dot product between \"query\" and \"key\" to get the raw attention scores.\n",
    "#         attention_scores = torch.matmul(\n",
    "#             query_layer, key_layer.transpose(-1, -2)\n",
    "#         )\n",
    "#         attention_scores = attention_scores / math.sqrt(\n",
    "#             self.attention_head_size\n",
    "#         )\n",
    "#         if attention_mask is not None:\n",
    "#             # Apply the attention mask is (precomputed for all layers in BertModel forward() function)\n",
    "#             attention_scores = attention_scores + attention_mask\n",
    "\n",
    "#         # Normalize the attention scores to probabilities.\n",
    "#         attention_probs = nn.Softmax(dim=-1)(attention_scores)\n",
    "\n",
    "#         # This is actually dropping out entire tokens to attend to, which might\n",
    "#         # seem a bit unusual, but is taken from the original Bert paper.\n",
    "#         attention_probs = self.dropout(attention_probs)\n",
    "\n",
    "#         context_layer = torch.matmul(attention_probs, value_layer)\n",
    "\n",
    "#         context_layer = context_layer.permute(0, 2, 1, 3).contiguous()\n",
    "#         new_context_layer_shape = context_layer.size(\n",
    "#         )[:-2] + (self.all_head_size, )\n",
    "#         context_layer = context_layer.view(*new_context_layer_shape)\n",
    "\n",
    "#         outputs = (context_layer, attention_probs\n",
    "#                   ) if self.output_attentions else (context_layer, )\n",
    "#         return outputs\n"
   ]
  },
  {
   "cell_type": "code",
   "execution_count": 178,
   "metadata": {},
   "outputs": [],
   "source": [
    "class Conv1D(nn.Module):\n",
    "    def __init__(self, nf, nx):\n",
    "        super(Conv1D, self).__init__()\n",
    "        self.nf = nf\n",
    "        w = torch.empty(nx, nf)\n",
    "        nn.init.normal_(w, std=0.02)\n",
    "        self.weight = nn.Parameter(w)\n",
    "        self.bias = nn.Parameter(torch.zeros(nf))\n",
    "\n",
    "    def forward(self, x):\n",
    "        size_out = x.size()[:-1] + (self.nf, )\n",
    "        x = torch.addmm(self.bias, x.view(-1, x.size(-1)), self.weight)\n",
    "        x = x.view(*size_out)\n",
    "        return x\n",
    "\n",
    "class GPTSelfAttention(nn.Module):\n",
    "    def __init__(self, nx, n_ctx, scale=False):\n",
    "        \"\"\"\n",
    "        This version is modified to support batch training\n",
    "        mask needs to be precomputed\n",
    "        \"\"\"\n",
    "        super().__init__()\n",
    "        n_state = nx  \n",
    "\n",
    "        self.n_head = 12\n",
    "        self.split_size = n_state\n",
    "        self.scale = scale\n",
    "        self.c_attn = Conv1D(n_state * 3, nx)\n",
    "        self.c_proj = Conv1D(n_state, nx)\n",
    "\n",
    "    def _attn(self, q, k, v, mask):\n",
    "        w = torch.matmul(q, k)\n",
    "        w = w / math.sqrt(v.size(-1))\n",
    "        # w = w * mask - 1e4 * (1 - mask)\n",
    "        w.masked_fill_(~mask, -1e4)\n",
    "        w = F.softmax(w, dim=-1)\n",
    "        w = self.attn_dropout(w)\n",
    "        return torch.matmul(w, v)\n",
    "\n",
    "    def merge_heads(self, x):\n",
    "        x = x.permute(0, 2, 1, 3).contiguous()\n",
    "        new_x_shape = x.size()[:-2] + (x.size(-2) * x.size(-1), )\n",
    "        return x.view(*new_x_shape)  # in Tensorflow implem: fct merge_states\n",
    "\n",
    "    def split_heads(self, x, k=False):\n",
    "        new_x_shape = x.size()[:-1] + (self.n_head, x.size(-1) // self.n_head)\n",
    "        x = x.view(*new_x_shape)  # in Tensorflow implem: fct split_states\n",
    "        if k:\n",
    "            # (batch, head, head_features, seq_length)\n",
    "            return x.permute(0, 2, 3, 1)\n",
    "        else:\n",
    "            # (batch, head, seq_length, head_features)\n",
    "            return x.permute(0, 2, 1, 3)\n",
    "\n",
    "    def forward(self, x, layer_past=None, mask=None):\n",
    "        x = self.c_attn(x)\n",
    "        \n",
    "        \n",
    "        \n",
    "        query, key, value = x.split(self.split_size, dim=2)\n",
    "        query = self.split_heads(query)\n",
    "        key = self.split_heads(key, k=True)\n",
    "        value = self.split_heads(value)\n",
    "        \n",
    "        return query, key, value\n",
    "        \n",
    "        if layer_past is not None:\n",
    "            # transpose back cf below\n",
    "            past_key, past_value = layer_past[0].transpose(-2,\n",
    "                                                           -1), layer_past[1]\n",
    "            key = torch.cat((past_key, key), dim=-1)\n",
    "            value = torch.cat((past_value, value), dim=-2)\n",
    "        # transpose to have same shapes for stacking\n",
    "        present = torch.stack((key.transpose(-2, -1), value))\n",
    "\n",
    "        a = self._attn(query, key, value, mask)\n",
    "        a = self.merge_heads(a)\n",
    "        a = self.c_proj(a)\n",
    "        a = self.resid_dropout(a)\n",
    "        return a, present\n"
   ]
  },
  {
   "cell_type": "code",
   "execution_count": 179,
   "metadata": {},
   "outputs": [],
   "source": [
    "x = torch.randn(1, 10, 768)"
   ]
  },
  {
   "cell_type": "code",
   "execution_count": 183,
   "metadata": {},
   "outputs": [],
   "source": [
    "bert_attention = BertSelfAttention()\n",
    "gpt_attention = GPTSelfAttention(768, 12)\n",
    "attention = MultiHeadAttention(config)"
   ]
  },
  {
   "cell_type": "code",
   "execution_count": 184,
   "metadata": {},
   "outputs": [],
   "source": [
    "q, k, v = bert_attention(x)"
   ]
  },
  {
   "cell_type": "code",
   "execution_count": 185,
   "metadata": {},
   "outputs": [],
   "source": [
    "gpt_attention.c_attn.weight.data = torch.cat([bert_attention.query.weight.data, \n",
    "                                              bert_attention.key.weight.data, \n",
    "                                              bert_attention.value.weight.data], dim=0).t()"
   ]
  },
  {
   "cell_type": "code",
   "execution_count": 186,
   "metadata": {},
   "outputs": [],
   "source": [
    "gpt_attention.c_attn.bias.data = torch.cat([bert_attention.query.bias.data, \n",
    "                                            bert_attention.key.bias.data, \n",
    "                                            bert_attention.value.bias.data], dim=0).t()"
   ]
  },
  {
   "cell_type": "code",
   "execution_count": 187,
   "metadata": {},
   "outputs": [],
   "source": [
    "attention.qkv.weight.data = torch.cat([bert_attention.query.weight.data, \n",
    "                                              bert_attention.key.weight.data, \n",
    "                                              bert_attention.value.weight.data], dim=0)\n",
    "\n",
    "attention.qkv.bias.data = torch.cat([bert_attention.query.bias.data, \n",
    "                                            bert_attention.key.bias.data, \n",
    "                                            bert_attention.value.bias.data], dim=0)"
   ]
  },
  {
   "cell_type": "code",
   "execution_count": 188,
   "metadata": {},
   "outputs": [],
   "source": [
    "q_g, k_g, v_g = gpt_attention(x)"
   ]
  },
  {
   "cell_type": "code",
   "execution_count": 195,
   "metadata": {},
   "outputs": [
    {
     "data": {
      "text/plain": [
       "tensor(-49.4289, grad_fn=<SumBackward0>)"
      ]
     },
     "execution_count": 195,
     "metadata": {},
     "output_type": "execute_result"
    }
   ],
   "source": [
    "k_g.sum()"
   ]
  },
  {
   "cell_type": "code",
   "execution_count": 197,
   "metadata": {},
   "outputs": [
    {
     "data": {
      "text/plain": [
       "tensor(-49.4289, grad_fn=<SumBackward0>)"
      ]
     },
     "execution_count": 197,
     "metadata": {},
     "output_type": "execute_result"
    }
   ],
   "source": [
    "k.sum()"
   ]
  },
  {
   "cell_type": "code",
   "execution_count": 198,
   "metadata": {},
   "outputs": [],
   "source": [
    "q_a, k_a, v_a = attention(x, mask=None)"
   ]
  },
  {
   "cell_type": "code",
   "execution_count": 199,
   "metadata": {},
   "outputs": [
    {
     "data": {
      "text/plain": [
       "tensor(-49.4289, grad_fn=<SumBackward0>)"
      ]
     },
     "execution_count": 199,
     "metadata": {},
     "output_type": "execute_result"
    }
   ],
   "source": [
    "k_a.sum()"
   ]
  },
  {
   "cell_type": "code",
   "execution_count": null,
   "metadata": {},
   "outputs": [],
   "source": []
  },
  {
   "cell_type": "code",
   "execution_count": null,
   "metadata": {},
   "outputs": [],
   "source": []
  },
  {
   "cell_type": "code",
   "execution_count": null,
   "metadata": {},
   "outputs": [],
   "source": []
  },
  {
   "cell_type": "code",
   "execution_count": null,
   "metadata": {},
   "outputs": [],
   "source": []
  }
 ],
 "metadata": {
  "kernelspec": {
   "display_name": "Python 3",
   "language": "python",
   "name": "python3"
  },
  "language_info": {
   "codemirror_mode": {
    "name": "ipython",
    "version": 3
   },
   "file_extension": ".py",
   "mimetype": "text/x-python",
   "name": "python",
   "nbconvert_exporter": "python",
   "pygments_lexer": "ipython3",
   "version": "3.7.3"
  }
 },
 "nbformat": 4,
 "nbformat_minor": 2
}
