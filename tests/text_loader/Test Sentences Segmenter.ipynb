{
 "cells": [
  {
   "cell_type": "code",
   "execution_count": 67,
   "metadata": {},
   "outputs": [],
   "source": [
    "import os\n",
    "from transformers import BertTokenizer, RobertaTokenizer"
   ]
  },
  {
   "cell_type": "code",
   "execution_count": 39,
   "metadata": {},
   "outputs": [],
   "source": [
    "def sents_to_segments(doc_sentences):\n",
    "\n",
    "    token_segments = []\n",
    "    current_seq = []\n",
    "\n",
    "    for count, sent in enumerate(doc_sentences):\n",
    "        if count > 0:\n",
    "            sent = \" \" + sent\n",
    "\n",
    "        token_sent = tokenizer.tokenize(sent)\n",
    "\n",
    "        if len(token_sent) > max_seq_length:\n",
    "            # append last sequence\n",
    "            token_segments.append(current_seq)\n",
    "\n",
    "            for i in range(0, len(token_sent) - max_seq_length, max_seq_length):\n",
    "                token_segments.append(token_sent[i:i+max_seq_length])\n",
    "\n",
    "            # assign the current seq the tail of token_sent\n",
    "            current_seq = token_sent[i+max_seq_length:i+max_seq_length*2]\n",
    "            continue\n",
    "\n",
    "        if (len(current_seq) + len(token_sent)) > max_seq_length:\n",
    "            token_segments.append(current_seq)\n",
    "            current_seq = token_sent\n",
    "        else:\n",
    "            current_seq = current_seq + token_sent\n",
    "    \n",
    "    if len(current_seq) > 0:\n",
    "        token_segments.append(current_seq)\n",
    "    \n",
    "    # remove empty segment\n",
    "    token_segments = [seg for seg in token_segments if seg]\n",
    "    \n",
    "    return token_segments"
   ]
  },
  {
   "cell_type": "code",
   "execution_count": 53,
   "metadata": {},
   "outputs": [],
   "source": [
    "def print_segment(seg):\n",
    "    print(tokenizer.convert_tokens_to_string(seg))\n",
    "    "
   ]
  },
  {
   "cell_type": "code",
   "execution_count": 69,
   "metadata": {},
   "outputs": [],
   "source": [
    "tokenizer = BertTokenizer.from_pretrained(\"bert-base-uncased\")"
   ]
  },
  {
   "cell_type": "code",
   "execution_count": 81,
   "metadata": {},
   "outputs": [
    {
     "data": {
      "text/plain": [
       "['This',\n",
       " 'Ġis',\n",
       " 'Ġnot',\n",
       " 'Ġgood',\n",
       " '.',\n",
       " 'ĠI',\n",
       " 'Ġam',\n",
       " 'Ġa',\n",
       " 'Ġdog',\n",
       " 'Ġads',\n",
       " 'a',\n",
       " 'as',\n",
       " 'd',\n",
       " 'as',\n",
       " 'da']"
      ]
     },
     "execution_count": 81,
     "metadata": {},
     "output_type": "execute_result"
    }
   ],
   "source": [
    "tokenizer.tokenize(\"This is not good. I am a dog adsaasdasda\")"
   ]
  },
  {
   "cell_type": "code",
   "execution_count": 71,
   "metadata": {},
   "outputs": [],
   "source": [
    "tokenizer = RobertaTokenizer.from_pretrained(\"roberta-base\")"
   ]
  },
  {
   "cell_type": "code",
   "execution_count": 76,
   "metadata": {},
   "outputs": [
    {
     "data": {
      "text/plain": [
       "'<pad>'"
      ]
     },
     "execution_count": 76,
     "metadata": {},
     "output_type": "execute_result"
    }
   ],
   "source": [
    "tokenizer.pad_token"
   ]
  },
  {
   "cell_type": "code",
   "execution_count": 59,
   "metadata": {},
   "outputs": [],
   "source": [
    "max_seq_length = 10"
   ]
  },
  {
   "cell_type": "code",
   "execution_count": 63,
   "metadata": {},
   "outputs": [],
   "source": [
    "doc = [\"i'm good.\", \"it not only a time.\", \"asdasd asko koa asdkaok asdkoas asdkoaskd asdkasodka asdko\", \"not my way\"]"
   ]
  },
  {
   "cell_type": "code",
   "execution_count": 64,
   "metadata": {},
   "outputs": [
    {
     "name": "stdout",
     "output_type": "stream",
     "text": [
      "i'm good.it not only a time.\n",
      "asdasd asko koa asd\n",
      "kaok asdkoas asdkoask\n",
      "d asdkasodka asdko\n",
      "not my way\n"
     ]
    }
   ],
   "source": [
    "for seg in sents_to_segments(doc):\n",
    "    print_segment(seg)"
   ]
  },
  {
   "cell_type": "code",
   "execution_count": 65,
   "metadata": {},
   "outputs": [
    {
     "data": {
      "text/plain": [
       "[['i', \"'m\", 'Ġgood', '.', 'it', 'Ġnot', 'Ġonly', 'Ġa', 'Ġtime', '.'],\n",
       " ['as', 'd', 'as', 'd', 'Ġask', 'o', 'Ġk', 'oa', 'Ġas', 'd'],\n",
       " ['ka', 'ok', 'Ġas', 'd', 'ko', 'as', 'Ġas', 'd', 'ko', 'ask'],\n",
       " ['d', 'Ġas', 'dk', 'as', 'odka', 'Ġas', 'd', 'ko'],\n",
       " ['not', 'Ġmy', 'Ġway']]"
      ]
     },
     "execution_count": 65,
     "metadata": {},
     "output_type": "execute_result"
    }
   ],
   "source": [
    "sents_to_segments(doc)"
   ]
  },
  {
   "cell_type": "code",
   "execution_count": null,
   "metadata": {},
   "outputs": [],
   "source": []
  }
 ],
 "metadata": {
  "kernelspec": {
   "display_name": "Python 3",
   "language": "python",
   "name": "python3"
  },
  "language_info": {
   "codemirror_mode": {
    "name": "ipython",
    "version": 3
   },
   "file_extension": ".py",
   "mimetype": "text/x-python",
   "name": "python",
   "nbconvert_exporter": "python",
   "pygments_lexer": "ipython3",
   "version": "3.7.4"
  }
 },
 "nbformat": 4,
 "nbformat_minor": 2
}
