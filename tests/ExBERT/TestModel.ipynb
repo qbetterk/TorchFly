{
 "cells": [
  {
   "cell_type": "code",
   "execution_count": 1,
   "metadata": {},
   "outputs": [],
   "source": [
    "import torch\n",
    "import hydra\n",
    "import hydra.experimental\n",
    "from transformers import AutoTokenizer\n",
    "from exbert_model import ExBertModel"
   ]
  },
  {
   "cell_type": "code",
   "execution_count": 2,
   "metadata": {},
   "outputs": [],
   "source": [
    "hydra.experimental.initialize(config_dir=\"config\")"
   ]
  },
  {
   "cell_type": "code",
   "execution_count": 3,
   "metadata": {},
   "outputs": [],
   "source": [
    "cfg = hydra.experimental.compose(\"config.yaml\")"
   ]
  },
  {
   "cell_type": "code",
   "execution_count": 4,
   "metadata": {},
   "outputs": [
    {
     "name": "stdout",
     "output_type": "stream",
     "text": [
      "exbert:\n",
      "  attention_probs_dropout_prob: 0.0\n",
      "  embedding_std: 0.01\n",
      "  gradient_checkpointing: false\n",
      "  hidden_act: h_swish\n",
      "  hidden_dropout_prob: 0.0\n",
      "  hidden_size: 768\n",
      "  intermediate_size: 3072\n",
      "  layer_norm_eps: 1.0e-05\n",
      "  max_position_embeddings: 512\n",
      "  num_attention_heads: 12\n",
      "  num_hidden_layers: 12\n",
      "  pad_token_id: 1\n",
      "  persistent_mem_size: 64\n",
      "  vocab_size: 50265\n",
      "training:\n",
      "  distributed: false\n",
      "  gradient_clipping: 1.0\n",
      "  learning_rate: 1.0e-05\n",
      "  mixed_precision: true\n",
      "  optimizer: Adam\n",
      "\n"
     ]
    }
   ],
   "source": [
    "print(cfg.pretty())"
   ]
  },
  {
   "cell_type": "code",
   "execution_count": 5,
   "metadata": {},
   "outputs": [],
   "source": [
    "tokenizer = AutoTokenizer.from_pretrained(\"roberta-base\")"
   ]
  },
  {
   "cell_type": "code",
   "execution_count": 6,
   "metadata": {
    "scrolled": true
   },
   "outputs": [],
   "source": [
    "model = ExBertModel(cfg.exbert)"
   ]
  },
  {
   "cell_type": "code",
   "execution_count": 7,
   "metadata": {},
   "outputs": [],
   "source": [
    "inputs = torch.ones(1, 10).long()"
   ]
  },
  {
   "cell_type": "code",
   "execution_count": 8,
   "metadata": {},
   "outputs": [
    {
     "data": {
      "text/plain": [
       "tensor([[[ 3.0184e-01, -1.5361e+00,  3.2075e+00,  ...,  1.2539e+00,\n",
       "           3.3097e+00, -3.5777e+00],\n",
       "         [-1.1527e+00, -2.9964e+00,  1.8090e+00,  ...,  7.9085e-01,\n",
       "          -2.0606e-03, -4.7636e-01],\n",
       "         [ 1.9984e+00, -1.2094e+00,  1.4512e+00,  ...,  2.3485e-01,\n",
       "           2.4664e+00,  1.6798e-01],\n",
       "         ...,\n",
       "         [-2.6059e+00,  4.1950e-01,  1.9189e+00,  ...,  1.7516e+00,\n",
       "           1.4476e+00, -8.9521e-01],\n",
       "         [ 1.3215e+00, -3.3171e+00,  1.1016e+00,  ..., -2.5897e-01,\n",
       "           1.3844e+00, -1.2504e+00],\n",
       "         [ 6.1963e-01, -1.2071e+00,  1.0219e+00,  ...,  1.9092e+00,\n",
       "           1.4691e+00, -3.2321e+00]]], grad_fn=<AddBackward0>)"
      ]
     },
     "execution_count": 8,
     "metadata": {},
     "output_type": "execute_result"
    }
   ],
   "source": [
    "model(inputs)"
   ]
  },
  {
   "cell_type": "code",
   "execution_count": 9,
   "metadata": {},
   "outputs": [],
   "source": [
    "torch.save(model.state_dict(), \"tmp.pth\")"
   ]
  },
  {
   "cell_type": "code",
   "execution_count": null,
   "metadata": {},
   "outputs": [],
   "source": []
  },
  {
   "cell_type": "code",
   "execution_count": 10,
   "metadata": {},
   "outputs": [
    {
     "data": {
      "text/plain": [
       "[4, 5]"
      ]
     },
     "execution_count": 10,
     "metadata": {},
     "output_type": "execute_result"
    }
   ],
   "source": [
    "[0,1 ,2,3,4,5][-2:]"
   ]
  },
  {
   "cell_type": "code",
   "execution_count": null,
   "metadata": {},
   "outputs": [],
   "source": []
  }
 ],
 "metadata": {
  "kernelspec": {
   "display_name": "Python 3",
   "language": "python",
   "name": "python3"
  },
  "language_info": {
   "codemirror_mode": {
    "name": "ipython",
    "version": 3
   },
   "file_extension": ".py",
   "mimetype": "text/x-python",
   "name": "python",
   "nbconvert_exporter": "python",
   "pygments_lexer": "ipython3",
   "version": "3.7.4"
  }
 },
 "nbformat": 4,
 "nbformat_minor": 2
}
