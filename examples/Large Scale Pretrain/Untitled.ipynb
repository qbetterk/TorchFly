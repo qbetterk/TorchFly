{
 "cells": [
  {
   "cell_type": "code",
   "execution_count": 1,
   "metadata": {},
   "outputs": [],
   "source": [
    "import torch\n",
    "import hydra\n",
    "import hydra.experimental\n",
    "from exbert_model import ExBertForMaskedLM, ExBertModel\n",
    "from model import PretrainModel"
   ]
  },
  {
   "cell_type": "code",
   "execution_count": 2,
   "metadata": {},
   "outputs": [],
   "source": [
    "hydra.experimental.initialize(config_dir=\"config\")"
   ]
  },
  {
   "cell_type": "code",
   "execution_count": 3,
   "metadata": {},
   "outputs": [],
   "source": [
    "config = hydra.experimental.compose(config_file=\"config.yaml\")"
   ]
  },
  {
   "cell_type": "code",
   "execution_count": 4,
   "metadata": {},
   "outputs": [
    {
     "name": "stdout",
     "output_type": "stream",
     "text": [
      "logging:\n",
      "  color: true\n",
      "  iterations_interval: -1\n",
      "  level: INFO\n",
      "  log_dir: logs\n",
      "  seconds_interval: 2\n",
      "model:\n",
      "  attention_probs_dropout_prob: 0.0\n",
      "  embedding_std: 0.1\n",
      "  gradient_checkpointing: false\n",
      "  hidden_act: h_swish\n",
      "  hidden_dropout_prob: 0.0\n",
      "  hidden_size: 768\n",
      "  intermediate_size: 3072\n",
      "  layer_norm_eps: 1.0e-05\n",
      "  max_position_embeddings: 515\n",
      "  num_attention_heads: 12\n",
      "  num_hidden_layers: 12\n",
      "  pad_token_id: 1\n",
      "  persistent_mem_size: 64\n",
      "  vocab_size: 50265\n",
      "saving:\n",
      "  iterations_interval: -1\n",
      "  keep_checkpoint_every_num_seconds: 3600\n",
      "  num_checkpoints_to_keep: 2\n",
      "  seconds_interval: 100\n",
      "training:\n",
      "  batch_size: 16\n",
      "  fp16: true\n",
      "  fp16_opt_level: O1\n",
      "  gradient_accumulation_steps: 1\n",
      "  learning_rate: 2.0e-05\n",
      "  max_gradient_norm: -1.0\n",
      "  num_gpus_per_node: 1\n",
      "  optimizer: AdamW\n",
      "  random_seed: 123\n",
      "  resume: true\n",
      "  scheduler: WarmupConstant\n",
      "  total_num_epochs: 3\n",
      "  total_num_iterations: 1000\n",
      "  validation_iterations_interval: -1\n",
      "  warmup_steps: 30\n",
      "\n"
     ]
    }
   ],
   "source": [
    "print(config.pretty())"
   ]
  },
  {
   "cell_type": "code",
   "execution_count": 5,
   "metadata": {},
   "outputs": [
    {
     "data": {
      "text/plain": [
       "1"
      ]
     },
     "execution_count": 5,
     "metadata": {},
     "output_type": "execute_result"
    }
   ],
   "source": [
    "config.model.pad_token_id"
   ]
  },
  {
   "cell_type": "code",
   "execution_count": 6,
   "metadata": {},
   "outputs": [],
   "source": [
    "model = PretrainModel(config)"
   ]
  },
  {
   "cell_type": "code",
   "execution_count": 7,
   "metadata": {},
   "outputs": [
    {
     "data": {
      "text/plain": [
       "{'max_position_embeddings': 515, 'vocab_size': 50265, 'persistent_mem_size': 64, 'num_attention_heads': 12, 'num_hidden_layers': 12, 'hidden_size': 768, 'intermediate_size': 3072, 'hidden_dropout_prob': 0.0, 'attention_probs_dropout_prob': 0.0, 'gradient_checkpointing': False, 'hidden_act': 'h_swish', 'layer_norm_eps': 1e-05, 'embedding_std': 0.1, 'pad_token_id': 1}"
      ]
     },
     "execution_count": 7,
     "metadata": {},
     "output_type": "execute_result"
    }
   ],
   "source": [
    "config.model"
   ]
  },
  {
   "cell_type": "code",
   "execution_count": 8,
   "metadata": {},
   "outputs": [],
   "source": [
    "input_ids = torch.ones(2, 100).long()\n",
    "mask_lm_labels = torch.ones(2, 100).long()\n",
    "\n",
    "batch = {\n",
    "    \"input_ids\": input_ids,\n",
    "    \"labels\": mask_lm_labels\n",
    "}"
   ]
  },
  {
   "cell_type": "code",
   "execution_count": 9,
   "metadata": {},
   "outputs": [
    {
     "data": {
      "text/plain": [
       "{'outputs': tensor([[[ 0.3242,  0.9273, -0.4952,  ..., -0.1322,  0.1280, -0.2398],\n",
       "          [ 0.3176,  0.9501, -0.4526,  ..., -0.0296,  0.1855, -0.1860],\n",
       "          [ 0.2493,  0.9993, -0.5639,  ..., -0.3046,  0.2726, -0.2184],\n",
       "          ...,\n",
       "          [ 0.3618,  0.9772, -0.4293,  ..., -0.1609,  0.0399, -0.2679],\n",
       "          [ 0.2701,  0.9869, -0.4367,  ..., -0.2182,  0.1598, -0.1205],\n",
       "          [ 0.3084,  0.8121, -0.5741,  ..., -0.1791,  0.1653, -0.2618]],\n",
       " \n",
       "         [[ 0.3242,  0.9273, -0.4952,  ..., -0.1322,  0.1280, -0.2398],\n",
       "          [ 0.3176,  0.9501, -0.4526,  ..., -0.0296,  0.1855, -0.1860],\n",
       "          [ 0.2493,  0.9993, -0.5639,  ..., -0.3046,  0.2726, -0.2184],\n",
       "          ...,\n",
       "          [ 0.3618,  0.9772, -0.4293,  ..., -0.1609,  0.0399, -0.2679],\n",
       "          [ 0.2701,  0.9869, -0.4367,  ..., -0.2182,  0.1598, -0.1205],\n",
       "          [ 0.3084,  0.8121, -0.5741,  ..., -0.1791,  0.1653, -0.2618]]],\n",
       "        grad_fn=<UnsafeViewBackward>),\n",
       " 'loss': tensor(9.9503, grad_fn=<NllLossBackward>)}"
      ]
     },
     "execution_count": 9,
     "metadata": {},
     "output_type": "execute_result"
    }
   ],
   "source": [
    "model(batch)"
   ]
  },
  {
   "cell_type": "code",
   "execution_count": 10,
   "metadata": {},
   "outputs": [],
   "source": [
    "from transformers import AutoTokenizer"
   ]
  },
  {
   "cell_type": "code",
   "execution_count": 11,
   "metadata": {},
   "outputs": [],
   "source": [
    "tokenizer = AutoTokenizer.from_pretrained(\"roberta-base\")"
   ]
  },
  {
   "cell_type": "code",
   "execution_count": 12,
   "metadata": {},
   "outputs": [
    {
     "data": {
      "text/plain": [
       "50265"
      ]
     },
     "execution_count": 12,
     "metadata": {},
     "output_type": "execute_result"
    }
   ],
   "source": [
    "len(tokenizer)"
   ]
  },
  {
   "cell_type": "code",
   "execution_count": 14,
   "metadata": {},
   "outputs": [
    {
     "data": {
      "text/plain": [
       "50264"
      ]
     },
     "execution_count": 14,
     "metadata": {},
     "output_type": "execute_result"
    }
   ],
   "source": [
    "tokenizer.mask_token_id"
   ]
  },
  {
   "cell_type": "code",
   "execution_count": 16,
   "metadata": {},
   "outputs": [
    {
     "ename": "TypeError",
     "evalue": "get_special_tokens_mask() missing 1 required positional argument: 'token_ids_0'",
     "output_type": "error",
     "traceback": [
      "\u001b[0;31m---------------------------------------------------------------------------\u001b[0m",
      "\u001b[0;31mTypeError\u001b[0m                                 Traceback (most recent call last)",
      "\u001b[0;32m<ipython-input-16-e7a641bbeb85>\u001b[0m in \u001b[0;36m<module>\u001b[0;34m\u001b[0m\n\u001b[0;32m----> 1\u001b[0;31m \u001b[0mtokenizer\u001b[0m\u001b[0;34m.\u001b[0m\u001b[0mget_special_tokens_mask\u001b[0m\u001b[0;34m(\u001b[0m\u001b[0;34m)\u001b[0m\u001b[0;34m\u001b[0m\u001b[0;34m\u001b[0m\u001b[0m\n\u001b[0m",
      "\u001b[0;31mTypeError\u001b[0m: get_special_tokens_mask() missing 1 required positional argument: 'token_ids_0'"
     ]
    }
   ],
   "source": [
    "tokenizer.get_special_tokens_mask()"
   ]
  },
  {
   "cell_type": "code",
   "execution_count": 17,
   "metadata": {},
   "outputs": [
    {
     "data": {
      "text/plain": [
       "66666.66666666667"
      ]
     },
     "execution_count": 17,
     "metadata": {},
     "output_type": "execute_result"
    }
   ],
   "source": [
    "2 / 0.00003"
   ]
  },
  {
   "cell_type": "code",
   "execution_count": 19,
   "metadata": {},
   "outputs": [
    {
     "data": {
      "text/plain": [
       "296.29333333333335"
      ]
     },
     "execution_count": 19,
     "metadata": {},
     "output_type": "execute_result"
    }
   ],
   "source": [
    "66666 / 3600 * 16"
   ]
  },
  {
   "cell_type": "code",
   "execution_count": 20,
   "metadata": {},
   "outputs": [
    {
     "data": {
      "text/plain": [
       "12.333333333333334"
      ]
     },
     "execution_count": 20,
     "metadata": {},
     "output_type": "execute_result"
    }
   ],
   "source": [
    "296 / 24"
   ]
  },
  {
   "cell_type": "code",
   "execution_count": 21,
   "metadata": {},
   "outputs": [
    {
     "data": {
      "text/plain": [
       "1073.4579485248778"
      ]
     },
     "execution_count": 21,
     "metadata": {},
     "output_type": "execute_result"
    }
   ],
   "source": [
    "2.71**7"
   ]
  },
  {
   "cell_type": "code",
   "execution_count": null,
   "metadata": {},
   "outputs": [],
   "source": []
  }
 ],
 "metadata": {
  "kernelspec": {
   "display_name": "Python 3",
   "language": "python",
   "name": "python3"
  },
  "language_info": {
   "codemirror_mode": {
    "name": "ipython",
    "version": 3
   },
   "file_extension": ".py",
   "mimetype": "text/x-python",
   "name": "python",
   "nbconvert_exporter": "python",
   "pygments_lexer": "ipython3",
   "version": "3.7.4"
  }
 },
 "nbformat": 4,
 "nbformat_minor": 2
}
