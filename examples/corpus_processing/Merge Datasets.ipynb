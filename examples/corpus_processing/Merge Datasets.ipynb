{
 "cells": [
  {
   "cell_type": "code",
   "execution_count": 2,
   "metadata": {},
   "outputs": [],
   "source": [
    "import os\n",
    "import json\n",
    "import glob\n",
    "import ray\n",
    "import tqdm\n",
    "import shutil"
   ]
  },
  {
   "cell_type": "code",
   "execution_count": 3,
   "metadata": {},
   "outputs": [],
   "source": [
    "OPENWEBTEXT_PATH = \"openwebtext/data/openwebtext_data.jsonl\"\n",
    "WIKI_PATH = \"enwiki/data/enwiki_data.jsonl\"\n",
    "BOOKCORPUS_PATH = \"bookcorpus/data/bookcorpus_data.jsonl\"\n",
    "PG19_PATH = \"pg19/data/pg19_train_data.jsonl\""
   ]
  },
  {
   "cell_type": "code",
   "execution_count": 4,
   "metadata": {},
   "outputs": [
    {
     "name": "stderr",
     "output_type": "stream",
     "text": [
      "100%|██████████| 4/4 [01:09<00:00, 17.46s/it]\n"
     ]
    }
   ],
   "source": [
    "all_files = [OPENWEBTEXT_PATH, WIKI_PATH, BOOKCORPUS_PATH, PG19_PATH]\n",
    "\n",
    "\n",
    "with open('final_data/train_data.jsonl', 'wb') as f_write:\n",
    "    for file in tqdm.tqdm(all_files):\n",
    "        with open(file, \"rb\") as f_read:\n",
    "            shutil.copyfileobj(f_read, f_write)"
   ]
  },
  {
   "cell_type": "markdown",
   "metadata": {},
   "source": [
    "## Check Train Data"
   ]
  },
  {
   "cell_type": "code",
   "execution_count": 10,
   "metadata": {},
   "outputs": [],
   "source": [
    "with open(\"final_data/train_data.jsonl\") as f:\n",
    "    for i in range(3):\n",
    "        data = f.readline()"
   ]
  },
  {
   "cell_type": "code",
   "execution_count": 9,
   "metadata": {},
   "outputs": [
    {
     "data": {
      "text/plain": [
       "[30]"
      ]
     },
     "execution_count": 9,
     "metadata": {},
     "output_type": "execute_result"
    }
   ],
   "source": [
    "list(range(30, 32, 8))"
   ]
  },
  {
   "cell_type": "code",
   "execution_count": null,
   "metadata": {},
   "outputs": [],
   "source": []
  }
 ],
 "metadata": {
  "kernelspec": {
   "display_name": "Python 3",
   "language": "python",
   "name": "python3"
  },
  "language_info": {
   "codemirror_mode": {
    "name": "ipython",
    "version": 3
   },
   "file_extension": ".py",
   "mimetype": "text/x-python",
   "name": "python",
   "nbconvert_exporter": "python",
   "pygments_lexer": "ipython3",
   "version": "3.7.4"
  }
 },
 "nbformat": 4,
 "nbformat_minor": 2
}
