{
 "cells": [
  {
   "cell_type": "code",
   "execution_count": 21,
   "metadata": {},
   "outputs": [],
   "source": [
    "import os\n",
    "import sys\n",
    "import glob\n",
    "import tqdm\n",
    "import json"
   ]
  },
  {
   "cell_type": "code",
   "execution_count": 3,
   "metadata": {},
   "outputs": [],
   "source": [
    "DATA_PATH = \"/home/wuqy1203/Desktop/English-Corpus/RAW/books_txt/\""
   ]
  },
  {
   "cell_type": "code",
   "execution_count": 4,
   "metadata": {},
   "outputs": [],
   "source": [
    "dir_paths = os.listdir(DATA_PATH)"
   ]
  },
  {
   "cell_type": "code",
   "execution_count": 6,
   "metadata": {},
   "outputs": [],
   "source": [
    "all_filenames = []\n",
    "\n",
    "for dir_path in dir_paths:\n",
    "    dir_path = os.path.join(DATA_PATH, dir_path)\n",
    "    # we only care about txt files\n",
    "    filenames = glob.glob(os.path.join(dir_path, \"*.txt\"))\n",
    "    all_filenames.extend(filenames)"
   ]
  },
  {
   "cell_type": "code",
   "execution_count": 7,
   "metadata": {},
   "outputs": [
    {
     "name": "stdout",
     "output_type": "stream",
     "text": [
      "total number: 11039\n"
     ]
    }
   ],
   "source": [
    "print(f\"total number: {len(all_filenames)}\")"
   ]
  },
  {
   "cell_type": "code",
   "execution_count": 22,
   "metadata": {},
   "outputs": [
    {
     "name": "stderr",
     "output_type": "stream",
     "text": [
      "100%|██████████| 11039/11039 [00:24<00:00, 455.85it/s]\n"
     ]
    }
   ],
   "source": [
    "f_write = open(\"bookcorpus_data.jsonl\", \"w\")\n",
    "\n",
    "for filename in tqdm.tqdm(all_filenames):\n",
    "    with open(filename, \"r\", encoding='utf-8', errors='ignore') as f_read:\n",
    "        text = f_read.read()\n",
    "        \n",
    "    line = {\n",
    "        \"url\": filename[42:],\n",
    "        \"text\": text,\n",
    "        \"domain\": \"bookcorpus\",\n",
    "    }\n",
    "    \n",
    "    f_write.write(json.dumps(line))\n",
    "    f_write.write(\"\\n\")"
   ]
  },
  {
   "cell_type": "code",
   "execution_count": 23,
   "metadata": {},
   "outputs": [],
   "source": [
    "f_write.close()"
   ]
  },
  {
   "cell_type": "code",
   "execution_count": null,
   "metadata": {},
   "outputs": [],
   "source": []
  }
 ],
 "metadata": {
  "kernelspec": {
   "display_name": "Python 3",
   "language": "python",
   "name": "python3"
  },
  "language_info": {
   "codemirror_mode": {
    "name": "ipython",
    "version": 3
   },
   "file_extension": ".py",
   "mimetype": "text/x-python",
   "name": "python",
   "nbconvert_exporter": "python",
   "pygments_lexer": "ipython3",
   "version": "3.7.4"
  }
 },
 "nbformat": 4,
 "nbformat_minor": 2
}
