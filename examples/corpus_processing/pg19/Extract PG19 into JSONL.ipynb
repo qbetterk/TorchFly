{
 "cells": [
  {
   "cell_type": "code",
   "execution_count": 1,
   "metadata": {},
   "outputs": [],
   "source": [
    "import os\n",
    "import json\n",
    "import tqdm\n",
    "import glob"
   ]
  },
  {
   "cell_type": "code",
   "execution_count": 2,
   "metadata": {},
   "outputs": [],
   "source": [
    "DATA_PATH = \"/home/wuqy1203/pg19/deepmind-gutenberg/\""
   ]
  },
  {
   "cell_type": "code",
   "execution_count": 8,
   "metadata": {},
   "outputs": [],
   "source": [
    "all_filenames = glob.glob(os.path.join(DATA_PATH, \"train\", \"*.txt\"))"
   ]
  },
  {
   "cell_type": "code",
   "execution_count": 14,
   "metadata": {},
   "outputs": [
    {
     "name": "stderr",
     "output_type": "stream",
     "text": [
      "100%|██████████| 28602/28602 [00:59<00:00, 482.83it/s]\n"
     ]
    }
   ],
   "source": [
    "f_write = open(\"data/pg19_train_data.jsonl\", \"w\")\n",
    "\n",
    "count = 0\n",
    "\n",
    "for filename in tqdm.tqdm(all_filenames):\n",
    "    with open(filename, \"r\") as f_read:\n",
    "        text = f_read.read()\n",
    "        line = {\n",
    "            \"url\": f\"pg19_{count}\",\n",
    "            \"text\": text,\n",
    "            \"domain\": \"pg19_train\",\n",
    "        }\n",
    "        line = json.dumps(line)\n",
    "        \n",
    "        f_write.write(line)\n",
    "        f_write.write(\"\\n\")\n",
    "        \n",
    "        count += 1"
   ]
  },
  {
   "cell_type": "code",
   "execution_count": null,
   "metadata": {},
   "outputs": [],
   "source": []
  }
 ],
 "metadata": {
  "kernelspec": {
   "display_name": "Python 3",
   "language": "python",
   "name": "python3"
  },
  "language_info": {
   "codemirror_mode": {
    "name": "ipython",
    "version": 3
   },
   "file_extension": ".py",
   "mimetype": "text/x-python",
   "name": "python",
   "nbconvert_exporter": "python",
   "pygments_lexer": "ipython3",
   "version": "3.7.4"
  }
 },
 "nbformat": 4,
 "nbformat_minor": 2
}
