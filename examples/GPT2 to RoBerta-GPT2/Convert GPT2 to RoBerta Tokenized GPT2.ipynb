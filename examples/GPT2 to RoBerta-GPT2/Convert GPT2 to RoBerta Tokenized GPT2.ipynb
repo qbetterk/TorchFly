{
 "cells": [
  {
   "cell_type": "code",
   "execution_count": 1,
   "metadata": {},
   "outputs": [],
   "source": [
    "import torch\n",
    "import torch.nn as nn\n",
    "import torch.nn.functional as F\n",
    "import numpy as np\n",
    "from omegaconf import DictConfig\n",
    "\n",
    "import transformers\n",
    "from transformers import RobertaTokenizer, GPT2Model, AutoTokenizer\n",
    "\n",
    "from torchfly.nn.transformers import GPT2LMHeadModel\n",
    "from torchfly.common.download import get_pretrained_weights\n",
    "from torchfly.text.decode import TransformerDecoder"
   ]
  },
  {
   "cell_type": "code",
   "execution_count": 2,
   "metadata": {},
   "outputs": [],
   "source": [
    "class GPT2MediumConfig:\n",
    "    initializer_range= 0.02\n",
    "    layer_norm_epsilon= 1e-05\n",
    "    n_ctx= 1024\n",
    "    n_embd= 1024\n",
    "    n_head= 16\n",
    "    n_layer= 24\n",
    "    n_positions= 1024\n",
    "    vocab_size= 50265\n",
    "    embd_pdrop= 0.0\n",
    "    resid_pdrop= 0.0\n",
    "    attn_pdrop= 0.0\n",
    "    output_attentions= False\n",
    "    output_hidden_states= False\n",
    "    output_past= True\n",
    "    pad_token_id= 1\n",
    "    name= \"roberta-tokenized-gpt2-medium\""
   ]
  },
  {
   "cell_type": "code",
   "execution_count": 3,
   "metadata": {},
   "outputs": [],
   "source": [
    "def random_interpolate(x, vocab_size):\n",
    "    return x[np.random.randint(vocab_size, size=20), :].mean(0)  + \\\n",
    "            torch.randn(x.shape[-1]) * 0.001"
   ]
  },
  {
   "cell_type": "code",
   "execution_count": 4,
   "metadata": {},
   "outputs": [],
   "source": [
    "new_model = GPT2LMHeadModel(GPT2MediumConfig)"
   ]
  },
  {
   "cell_type": "code",
   "execution_count": 5,
   "metadata": {},
   "outputs": [],
   "source": [
    "num_special_tokens = 8\n",
    "original_vocab_size = 50257\n",
    "model_name = \"gpt2-medium\""
   ]
  },
  {
   "cell_type": "code",
   "execution_count": 6,
   "metadata": {},
   "outputs": [],
   "source": [
    "roberta_tokenizer = RobertaTokenizer.from_pretrained(\"roberta-base\")\n",
    "gpt_tokenizer = AutoTokenizer.from_pretrained(\"gpt2\")\n",
    "special_tokens = set(roberta_tokenizer.encoder.keys()).difference(set(gpt_tokenizer.encoder.keys()))"
   ]
  },
  {
   "cell_type": "code",
   "execution_count": 7,
   "metadata": {},
   "outputs": [],
   "source": [
    "gpt2_model = transformers.GPT2LMHeadModel.from_pretrained(model_name)\n",
    "\n",
    "# copy the original embedding\n",
    "new_embedding = nn.Embedding(gpt2_model.config.vocab_size + num_special_tokens, gpt2_model.config.n_embd)\n",
    "new_embedding.weight.data[:gpt2_model.config.vocab_size, :] = gpt2_model.transformer.wte.weight.data\n",
    "\n",
    "# for the first three, use random interpolate\n",
    "for i in range(num_special_tokens):\n",
    "    new_embedding.weight.data[gpt2_model.config.vocab_size+i, :] = \\\n",
    "        random_interpolate(new_embedding.weight.data, gpt2_model.config.vocab_size)\n",
    "\n",
    "# redefine the mapping\n",
    "r2g_mapping = []\n",
    "special_start_count = original_vocab_size\n",
    "\n",
    "for r_idx in range(original_vocab_size + num_special_tokens):\n",
    "    r_token = roberta_tokenizer.decoder[r_idx]\n",
    "    \n",
    "    if r_token in special_tokens:\n",
    "        r2g_mapping.append(special_start_count)\n",
    "        special_start_count += 1\n",
    "    else:\n",
    "        g_idx = gpt_tokenizer.encoder[r_token]\n",
    "        r2g_mapping.append(g_idx)\n",
    "\n",
    "# rearrange the weight\n",
    "# gpt2_model_states = gpt2_model.state_dict()\n",
    "# gpt2_model_states = {k: v for k, v in gpt2_model_states.items() if '.attn.bias' not in k}\n",
    "# gpt2_model_states['transformer.wte.weight'].data = gpt2_model_states['transformer.wte.weight'][r2g_mapping]\n",
    "# gpt2_model.transformer.wte.weight.data = new_embedding.weight.data"
   ]
  },
  {
   "cell_type": "code",
   "execution_count": 8,
   "metadata": {},
   "outputs": [],
   "source": [
    "gpt2_model.transformer.wte = nn.Embedding.from_pretrained(new_embedding.weight[r2g_mapping].detach().data)\n",
    "gpt2_model.lm_head.weight = gpt2_model.transformer.wte.weight"
   ]
  },
  {
   "cell_type": "code",
   "execution_count": 9,
   "metadata": {},
   "outputs": [
    {
     "data": {
      "text/plain": [
       "_IncompatibleKeys(missing_keys=[], unexpected_keys=['transformer.h.0.attn.bias', 'transformer.h.1.attn.bias', 'transformer.h.2.attn.bias', 'transformer.h.3.attn.bias', 'transformer.h.4.attn.bias', 'transformer.h.5.attn.bias', 'transformer.h.6.attn.bias', 'transformer.h.7.attn.bias', 'transformer.h.8.attn.bias', 'transformer.h.9.attn.bias', 'transformer.h.10.attn.bias', 'transformer.h.11.attn.bias', 'transformer.h.12.attn.bias', 'transformer.h.13.attn.bias', 'transformer.h.14.attn.bias', 'transformer.h.15.attn.bias', 'transformer.h.16.attn.bias', 'transformer.h.17.attn.bias', 'transformer.h.18.attn.bias', 'transformer.h.19.attn.bias', 'transformer.h.20.attn.bias', 'transformer.h.21.attn.bias', 'transformer.h.22.attn.bias', 'transformer.h.23.attn.bias'])"
      ]
     },
     "execution_count": 9,
     "metadata": {},
     "output_type": "execute_result"
    }
   ],
   "source": [
    "new_model.load_state_dict(gpt2_model.state_dict(), strict=False)"
   ]
  },
  {
   "cell_type": "code",
   "execution_count": 10,
   "metadata": {},
   "outputs": [],
   "source": [
    "torch.save(new_model.state_dict(), f\"{GPT2MediumConfig.name}.pth\")"
   ]
  },
  {
   "cell_type": "markdown",
   "metadata": {},
   "source": [
    "## Test"
   ]
  },
  {
   "cell_type": "code",
   "execution_count": 11,
   "metadata": {},
   "outputs": [],
   "source": [
    "model = new_model\n",
    "# model = transformers.GPT2LMHeadModel.from_pretrained(model_name)\n",
    "tokenizer = roberta_tokenizer"
   ]
  },
  {
   "cell_type": "code",
   "execution_count": 12,
   "metadata": {},
   "outputs": [],
   "source": [
    "decoder_helper = TransformerDecoder(DictConfig({}))"
   ]
  },
  {
   "cell_type": "code",
   "execution_count": 13,
   "metadata": {},
   "outputs": [],
   "source": [
    "decoder_helper.register_generator(model)\n",
    "decoder_helper.register_tokenizer(tokenizer)"
   ]
  },
  {
   "cell_type": "code",
   "execution_count": 14,
   "metadata": {},
   "outputs": [],
   "source": [
    "sentence = tokenizer.encode(\"A dog has an\", add_special_tokens=False)\n",
    "input_ids = torch.LongTensor([sentence])"
   ]
  },
  {
   "cell_type": "code",
   "execution_count": 15,
   "metadata": {},
   "outputs": [],
   "source": [
    "results = decoder_helper.generate(input_ids=input_ids, num_beams=1, do_sample=False)"
   ]
  },
  {
   "cell_type": "code",
   "execution_count": 16,
   "metadata": {},
   "outputs": [
    {
     "data": {
      "text/plain": [
       "' emotional bond with its owner. It is a bond that is stronger than any other bond. It is'"
      ]
     },
     "execution_count": 16,
     "metadata": {},
     "output_type": "execute_result"
    }
   ],
   "source": [
    "tokenizer.decode((results[\"tokens\"][0][0]).tolist())"
   ]
  },
  {
   "cell_type": "code",
   "execution_count": 17,
   "metadata": {},
   "outputs": [
    {
     "name": "stdout",
     "output_type": "stream",
     "text": [
      "tensor([3722, 2175,   19,   63, 1945,    4,   85,   16,   10, 2175,   14,   16,\n",
      "        3651,   87,  143,   97, 2175,    4,   85,   16])\n"
     ]
    }
   ],
   "source": [
    "print(results[\"tokens\"][0][0])"
   ]
  },
  {
   "cell_type": "code",
   "execution_count": 18,
   "metadata": {},
   "outputs": [
    {
     "data": {
      "text/plain": [
       "tensor([[ 250, 2335,   34,   41]])"
      ]
     },
     "execution_count": 18,
     "metadata": {},
     "output_type": "execute_result"
    }
   ],
   "source": [
    "input_ids"
   ]
  },
  {
   "cell_type": "code",
   "execution_count": null,
   "metadata": {},
   "outputs": [],
   "source": []
  }
 ],
 "metadata": {
  "kernelspec": {
   "display_name": "Python 3",
   "language": "python",
   "name": "python3"
  },
  "language_info": {
   "codemirror_mode": {
    "name": "ipython",
    "version": 3
   },
   "file_extension": ".py",
   "mimetype": "text/x-python",
   "name": "python",
   "nbconvert_exporter": "python",
   "pygments_lexer": "ipython3",
   "version": "3.7.4"
  }
 },
 "nbformat": 4,
 "nbformat_minor": 4
}
